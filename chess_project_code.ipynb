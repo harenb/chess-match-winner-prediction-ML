{
  "nbformat": 4,
  "nbformat_minor": 0,
  "metadata": {
    "kernelspec": {
      "display_name": "Python 3",
      "language": "python",
      "name": "python3"
    },
    "language_info": {
      "codemirror_mode": {
        "name": "ipython",
        "version": 3
      },
      "file_extension": ".py",
      "mimetype": "text/x-python",
      "name": "python",
      "nbconvert_exporter": "python",
      "pygments_lexer": "ipython3",
      "version": "3.7.3"
    },
    "colab": {
      "name": "Project_Code.ipynb",
      "provenance": [],
      "collapsed_sections": []
    }
  },
  "cells": [
    {
      "cell_type": "markdown",
      "metadata": {
        "id": "44t6837S37YC",
        "colab_type": "text"
      },
      "source": [
        "#CIS519 Project"
      ]
    },
    {
      "cell_type": "markdown",
      "metadata": {
        "id": "erV7WvKR32en",
        "colab_type": "text"
      },
      "source": [
        "### Loading in Data and Necessary Packages"
      ]
    },
    {
      "cell_type": "code",
      "metadata": {
        "id": "-o0qIdvRXeE8",
        "colab_type": "code",
        "colab": {}
      },
      "source": [
        "import pandas as pd\n",
        "from sklearn.ensemble import RandomForestClassifier\n",
        "from sklearn import model_selection as ms\n",
        "from sklearn import metrics\n",
        "from sklearn import linear_model\n",
        "from sklearn import naive_bayes\n",
        "import matplotlib.pyplot as plt"
      ],
      "execution_count": null,
      "outputs": []
    },
    {
      "cell_type": "code",
      "metadata": {
        "id": "LrCXnfe5YvC1",
        "colab_type": "code",
        "colab": {
          "base_uri": "https://localhost:8080/",
          "height": 122
        },
        "outputId": "e1a71736-60f0-4d57-ff30-716d111d3943"
      },
      "source": [
        "from google.colab import drive\n",
        "drive.mount('/content/drive')"
      ],
      "execution_count": null,
      "outputs": [
        {
          "output_type": "stream",
          "text": [
            "Go to this URL in a browser: https://accounts.google.com/o/oauth2/auth?client_id=947318989803-6bn6qk8qdgf4n4g3pfee6491hc0brc4i.apps.googleusercontent.com&redirect_uri=urn%3aietf%3awg%3aoauth%3a2.0%3aoob&response_type=code&scope=email%20https%3a%2f%2fwww.googleapis.com%2fauth%2fdocs.test%20https%3a%2f%2fwww.googleapis.com%2fauth%2fdrive%20https%3a%2f%2fwww.googleapis.com%2fauth%2fdrive.photos.readonly%20https%3a%2f%2fwww.googleapis.com%2fauth%2fpeopleapi.readonly\n",
            "\n",
            "Enter your authorization code:\n",
            "··········\n",
            "Mounted at /content/drive\n"
          ],
          "name": "stdout"
        }
      ]
    },
    {
      "cell_type": "code",
      "metadata": {
        "id": "Ca1GxImR3zh3",
        "colab_type": "code",
        "colab": {}
      },
      "source": [
        "games = pd.read_csv('/content/drive/Shared drives/CIS519/games.csv')"
      ],
      "execution_count": null,
      "outputs": []
    },
    {
      "cell_type": "markdown",
      "metadata": {
        "id": "oEGBJToy3t7_",
        "colab_type": "text"
      },
      "source": [
        "### Data Exploration & Preliminary Analysis"
      ]
    },
    {
      "cell_type": "code",
      "metadata": {
        "id": "3KbNOXHoXeFG",
        "colab_type": "code",
        "colab": {
          "base_uri": "https://localhost:8080/",
          "height": 51
        },
        "outputId": "a60c4b61-4247-4b2f-8ff9-3855e1da2754"
      },
      "source": [
        "# Unique openers\n",
        "\n",
        "unique_openers = []\n",
        "print(len(games['opening_name']), 'openers')\n",
        "print(len(games['opening_name'].value_counts()), 'unique openers')"
      ],
      "execution_count": null,
      "outputs": [
        {
          "output_type": "stream",
          "text": [
            "20058 openers\n",
            "1477 unique openers\n"
          ],
          "name": "stdout"
        }
      ]
    },
    {
      "cell_type": "code",
      "metadata": {
        "id": "USLmScwITbh2",
        "colab_type": "code",
        "colab": {
          "base_uri": "https://localhost:8080/",
          "height": 145
        },
        "outputId": "4491a2e6-a73f-4eb9-cdf1-4c450a36f6aa"
      },
      "source": [
        "# columns\n",
        "\n",
        "games.head(2)\n"
      ],
      "execution_count": null,
      "outputs": [
        {
          "output_type": "execute_result",
          "data": {
            "text/html": [
              "<div>\n",
              "<style scoped>\n",
              "    .dataframe tbody tr th:only-of-type {\n",
              "        vertical-align: middle;\n",
              "    }\n",
              "\n",
              "    .dataframe tbody tr th {\n",
              "        vertical-align: top;\n",
              "    }\n",
              "\n",
              "    .dataframe thead th {\n",
              "        text-align: right;\n",
              "    }\n",
              "</style>\n",
              "<table border=\"1\" class=\"dataframe\">\n",
              "  <thead>\n",
              "    <tr style=\"text-align: right;\">\n",
              "      <th></th>\n",
              "      <th>id</th>\n",
              "      <th>rated</th>\n",
              "      <th>created_at</th>\n",
              "      <th>last_move_at</th>\n",
              "      <th>turns</th>\n",
              "      <th>victory_status</th>\n",
              "      <th>winner</th>\n",
              "      <th>increment_code</th>\n",
              "      <th>white_id</th>\n",
              "      <th>white_rating</th>\n",
              "      <th>black_id</th>\n",
              "      <th>black_rating</th>\n",
              "      <th>moves</th>\n",
              "      <th>opening_eco</th>\n",
              "      <th>opening_name</th>\n",
              "      <th>opening_ply</th>\n",
              "    </tr>\n",
              "  </thead>\n",
              "  <tbody>\n",
              "    <tr>\n",
              "      <th>0</th>\n",
              "      <td>TZJHLljE</td>\n",
              "      <td>False</td>\n",
              "      <td>1.504210e+12</td>\n",
              "      <td>1.504210e+12</td>\n",
              "      <td>13</td>\n",
              "      <td>outoftime</td>\n",
              "      <td>white</td>\n",
              "      <td>15+2</td>\n",
              "      <td>bourgris</td>\n",
              "      <td>1500</td>\n",
              "      <td>a-00</td>\n",
              "      <td>1191</td>\n",
              "      <td>d4 d5 c4 c6 cxd5 e6 dxe6 fxe6 Nf3 Bb4+ Nc3 Ba5...</td>\n",
              "      <td>D10</td>\n",
              "      <td>Slav Defense: Exchange Variation</td>\n",
              "      <td>5</td>\n",
              "    </tr>\n",
              "    <tr>\n",
              "      <th>1</th>\n",
              "      <td>l1NXvwaE</td>\n",
              "      <td>True</td>\n",
              "      <td>1.504130e+12</td>\n",
              "      <td>1.504130e+12</td>\n",
              "      <td>16</td>\n",
              "      <td>resign</td>\n",
              "      <td>black</td>\n",
              "      <td>5+10</td>\n",
              "      <td>a-00</td>\n",
              "      <td>1322</td>\n",
              "      <td>skinnerua</td>\n",
              "      <td>1261</td>\n",
              "      <td>d4 Nc6 e4 e5 f4 f6 dxe5 fxe5 fxe5 Nxe5 Qd4 Nc6...</td>\n",
              "      <td>B00</td>\n",
              "      <td>Nimzowitsch Defense: Kennedy Variation</td>\n",
              "      <td>4</td>\n",
              "    </tr>\n",
              "  </tbody>\n",
              "</table>\n",
              "</div>"
            ],
            "text/plain": [
              "         id  rated  ...                            opening_name  opening_ply\n",
              "0  TZJHLljE  False  ...        Slav Defense: Exchange Variation            5\n",
              "1  l1NXvwaE   True  ...  Nimzowitsch Defense: Kennedy Variation            4\n",
              "\n",
              "[2 rows x 16 columns]"
            ]
          },
          "metadata": {
            "tags": []
          },
          "execution_count": 5
        }
      ]
    },
    {
      "cell_type": "code",
      "metadata": {
        "id": "25etTKWjUUMI",
        "colab_type": "code",
        "colab": {
          "base_uri": "https://localhost:8080/",
          "height": 306
        },
        "outputId": "ff9c10cc-fca0-40b5-9c1e-7ee26cec09de"
      },
      "source": [
        "# Datatype of columns\n",
        "\n",
        "games.dtypes"
      ],
      "execution_count": null,
      "outputs": [
        {
          "output_type": "execute_result",
          "data": {
            "text/plain": [
              "id                 object\n",
              "rated                bool\n",
              "created_at        float64\n",
              "last_move_at      float64\n",
              "turns               int64\n",
              "victory_status     object\n",
              "winner             object\n",
              "increment_code     object\n",
              "white_id           object\n",
              "white_rating        int64\n",
              "black_id           object\n",
              "black_rating        int64\n",
              "moves              object\n",
              "opening_eco        object\n",
              "opening_name       object\n",
              "opening_ply         int64\n",
              "dtype: object"
            ]
          },
          "metadata": {
            "tags": []
          },
          "execution_count": 6
        }
      ]
    },
    {
      "cell_type": "code",
      "metadata": {
        "id": "3B-UBHAgZ2n5",
        "colab_type": "code",
        "colab": {
          "base_uri": "https://localhost:8080/",
          "height": 34
        },
        "outputId": "81a3ceaf-c4e6-493e-80df-e14842ddd30e"
      },
      "source": [
        "games_not_resigned = games[games.victory_status != 'resign']\n",
        "len(games_not_resigned)"
      ],
      "execution_count": null,
      "outputs": [
        {
          "output_type": "execute_result",
          "data": {
            "text/plain": [
              "8911"
            ]
          },
          "metadata": {
            "tags": []
          },
          "execution_count": 7
        }
      ]
    },
    {
      "cell_type": "code",
      "metadata": {
        "id": "jWrfnhkVuEKB",
        "colab_type": "code",
        "colab": {
          "base_uri": "https://localhost:8080/",
          "height": 34
        },
        "outputId": "c44f8fb5-3ce6-4a43-9ee1-5ab98f118e44"
      },
      "source": [
        "len(games_not_resigned[games_not_resigned.turns >= 10])"
      ],
      "execution_count": null,
      "outputs": [
        {
          "output_type": "execute_result",
          "data": {
            "text/plain": [
              "8716"
            ]
          },
          "metadata": {
            "tags": []
          },
          "execution_count": 8
        }
      ]
    },
    {
      "cell_type": "code",
      "metadata": {
        "id": "CxaTeB3Yw6yN",
        "colab_type": "code",
        "colab": {
          "base_uri": "https://localhost:8080/",
          "height": 34
        },
        "outputId": "d802c4d8-fb0a-46f1-dba3-aff9bebf3508"
      },
      "source": [
        "games_white_wins = games[games.winner == 'white']\n",
        "len(games_white_wins)"
      ],
      "execution_count": null,
      "outputs": [
        {
          "output_type": "execute_result",
          "data": {
            "text/plain": [
              "10001"
            ]
          },
          "metadata": {
            "tags": []
          },
          "execution_count": 9
        }
      ]
    },
    {
      "cell_type": "code",
      "metadata": {
        "id": "CQZ-2kkjyJ_M",
        "colab_type": "code",
        "colab": {
          "base_uri": "https://localhost:8080/",
          "height": 34
        },
        "outputId": "00c7fcd1-a7f6-4bd7-8731-a681477c491a"
      },
      "source": [
        "len(games_white_wins[games_white_wins.opening_name == \"Slav Defense: Exchange Variation\"])"
      ],
      "execution_count": null,
      "outputs": [
        {
          "output_type": "execute_result",
          "data": {
            "text/plain": [
              "7"
            ]
          },
          "metadata": {
            "tags": []
          },
          "execution_count": 10
        }
      ]
    },
    {
      "cell_type": "code",
      "metadata": {
        "id": "xu6a2h-BzVFA",
        "colab_type": "code",
        "colab": {
          "base_uri": "https://localhost:8080/",
          "height": 34
        },
        "outputId": "6e7a84bf-d64d-4f74-8144-c0545ad8527e"
      },
      "source": [
        "slav_ev_opening = games[games.opening_name == \"Slav Defense: Exchange Variation\"]\n",
        "len(slav_ev_opening)"
      ],
      "execution_count": null,
      "outputs": [
        {
          "output_type": "execute_result",
          "data": {
            "text/plain": [
              "19"
            ]
          },
          "metadata": {
            "tags": []
          },
          "execution_count": 11
        }
      ]
    },
    {
      "cell_type": "code",
      "metadata": {
        "id": "-6ckfxGgzpi9",
        "colab_type": "code",
        "colab": {
          "base_uri": "https://localhost:8080/",
          "height": 34
        },
        "outputId": "b533777d-0e22-4775-9896-2b5053aeb35a"
      },
      "source": [
        "moves_less_100 = games[games.turns < 100]\n",
        "len(moves_less_100)"
      ],
      "execution_count": null,
      "outputs": [
        {
          "output_type": "execute_result",
          "data": {
            "text/plain": [
              "17436"
            ]
          },
          "metadata": {
            "tags": []
          },
          "execution_count": 12
        }
      ]
    },
    {
      "cell_type": "code",
      "metadata": {
        "id": "MgkIRTW_066C",
        "colab_type": "code",
        "colab": {
          "base_uri": "https://localhost:8080/",
          "height": 221
        },
        "outputId": "b77aa430-7081-48c2-f92a-7a08d15ca5f7"
      },
      "source": [
        "print(games['opening_eco'].value_counts())"
      ],
      "execution_count": null,
      "outputs": [
        {
          "output_type": "stream",
          "text": [
            "A00    1007\n",
            "C00     844\n",
            "D00     739\n",
            "B01     716\n",
            "C41     691\n",
            "       ... \n",
            "E35       1\n",
            "D36       1\n",
            "D82       1\n",
            "E46       1\n",
            "C09       1\n",
            "Name: opening_eco, Length: 365, dtype: int64\n"
          ],
          "name": "stdout"
        }
      ]
    },
    {
      "cell_type": "code",
      "metadata": {
        "id": "KtPfgeWV2ndO",
        "colab_type": "code",
        "colab": {}
      },
      "source": [
        "games_useful = games[['id','winner', 'turns', 'moves']]"
      ],
      "execution_count": null,
      "outputs": []
    },
    {
      "cell_type": "code",
      "metadata": {
        "id": "31Lyr72a6JAD",
        "colab_type": "code",
        "colab": {
          "base_uri": "https://localhost:8080/",
          "height": 419
        },
        "outputId": "848cddc0-8aec-470f-d799-cd9a6c6fa8c3"
      },
      "source": [
        "games_useful[['moves','id']]"
      ],
      "execution_count": null,
      "outputs": [
        {
          "output_type": "execute_result",
          "data": {
            "text/html": [
              "<div>\n",
              "<style scoped>\n",
              "    .dataframe tbody tr th:only-of-type {\n",
              "        vertical-align: middle;\n",
              "    }\n",
              "\n",
              "    .dataframe tbody tr th {\n",
              "        vertical-align: top;\n",
              "    }\n",
              "\n",
              "    .dataframe thead th {\n",
              "        text-align: right;\n",
              "    }\n",
              "</style>\n",
              "<table border=\"1\" class=\"dataframe\">\n",
              "  <thead>\n",
              "    <tr style=\"text-align: right;\">\n",
              "      <th></th>\n",
              "      <th>moves</th>\n",
              "      <th>id</th>\n",
              "    </tr>\n",
              "  </thead>\n",
              "  <tbody>\n",
              "    <tr>\n",
              "      <th>0</th>\n",
              "      <td>d4 d5 c4 c6 cxd5 e6 dxe6 fxe6 Nf3 Bb4+ Nc3 Ba5...</td>\n",
              "      <td>TZJHLljE</td>\n",
              "    </tr>\n",
              "    <tr>\n",
              "      <th>1</th>\n",
              "      <td>d4 Nc6 e4 e5 f4 f6 dxe5 fxe5 fxe5 Nxe5 Qd4 Nc6...</td>\n",
              "      <td>l1NXvwaE</td>\n",
              "    </tr>\n",
              "    <tr>\n",
              "      <th>2</th>\n",
              "      <td>e4 e5 d3 d6 Be3 c6 Be2 b5 Nd2 a5 a4 c5 axb5 Nc...</td>\n",
              "      <td>mIICvQHh</td>\n",
              "    </tr>\n",
              "    <tr>\n",
              "      <th>3</th>\n",
              "      <td>d4 d5 Nf3 Bf5 Nc3 Nf6 Bf4 Ng4 e3 Nc6 Be2 Qd7 O...</td>\n",
              "      <td>kWKvrqYL</td>\n",
              "    </tr>\n",
              "    <tr>\n",
              "      <th>4</th>\n",
              "      <td>e4 e5 Nf3 d6 d4 Nc6 d5 Nb4 a3 Na6 Nc3 Be7 b4 N...</td>\n",
              "      <td>9tXo1AUZ</td>\n",
              "    </tr>\n",
              "    <tr>\n",
              "      <th>...</th>\n",
              "      <td>...</td>\n",
              "      <td>...</td>\n",
              "    </tr>\n",
              "    <tr>\n",
              "      <th>20053</th>\n",
              "      <td>d4 f5 e3 e6 Nf3 Nf6 Nc3 b6 Be2 Bb7 O-O Be7 Ne5...</td>\n",
              "      <td>EfqH7VVH</td>\n",
              "    </tr>\n",
              "    <tr>\n",
              "      <th>20054</th>\n",
              "      <td>d4 d6 Bf4 e5 Bg3 Nf6 e3 exd4 exd4 d5 c3 Bd6 Bd...</td>\n",
              "      <td>WSJDhbPl</td>\n",
              "    </tr>\n",
              "    <tr>\n",
              "      <th>20055</th>\n",
              "      <td>d4 d5 Bf4 Nc6 e3 Nf6 c3 e6 Nf3 Be7 Bd3 O-O Nbd...</td>\n",
              "      <td>yrAas0Kj</td>\n",
              "    </tr>\n",
              "    <tr>\n",
              "      <th>20056</th>\n",
              "      <td>e4 d6 d4 Nf6 e5 dxe5 dxe5 Qxd1+ Kxd1 Nd5 c4 Nb...</td>\n",
              "      <td>b0v4tRyF</td>\n",
              "    </tr>\n",
              "    <tr>\n",
              "      <th>20057</th>\n",
              "      <td>d4 d5 Bf4 Na6 e3 e6 c3 Nf6 Nf3 Bd7 Nbd2 b5 Bd3...</td>\n",
              "      <td>N8G2JHGG</td>\n",
              "    </tr>\n",
              "  </tbody>\n",
              "</table>\n",
              "<p>20058 rows × 2 columns</p>\n",
              "</div>"
            ],
            "text/plain": [
              "                                                   moves        id\n",
              "0      d4 d5 c4 c6 cxd5 e6 dxe6 fxe6 Nf3 Bb4+ Nc3 Ba5...  TZJHLljE\n",
              "1      d4 Nc6 e4 e5 f4 f6 dxe5 fxe5 fxe5 Nxe5 Qd4 Nc6...  l1NXvwaE\n",
              "2      e4 e5 d3 d6 Be3 c6 Be2 b5 Nd2 a5 a4 c5 axb5 Nc...  mIICvQHh\n",
              "3      d4 d5 Nf3 Bf5 Nc3 Nf6 Bf4 Ng4 e3 Nc6 Be2 Qd7 O...  kWKvrqYL\n",
              "4      e4 e5 Nf3 d6 d4 Nc6 d5 Nb4 a3 Na6 Nc3 Be7 b4 N...  9tXo1AUZ\n",
              "...                                                  ...       ...\n",
              "20053  d4 f5 e3 e6 Nf3 Nf6 Nc3 b6 Be2 Bb7 O-O Be7 Ne5...  EfqH7VVH\n",
              "20054  d4 d6 Bf4 e5 Bg3 Nf6 e3 exd4 exd4 d5 c3 Bd6 Bd...  WSJDhbPl\n",
              "20055  d4 d5 Bf4 Nc6 e3 Nf6 c3 e6 Nf3 Be7 Bd3 O-O Nbd...  yrAas0Kj\n",
              "20056  e4 d6 d4 Nf6 e5 dxe5 dxe5 Qxd1+ Kxd1 Nd5 c4 Nb...  b0v4tRyF\n",
              "20057  d4 d5 Bf4 Na6 e3 e6 c3 Nf6 Nf3 Bd7 Nbd2 b5 Bd3...  N8G2JHGG\n",
              "\n",
              "[20058 rows x 2 columns]"
            ]
          },
          "metadata": {
            "tags": []
          },
          "execution_count": 15
        }
      ]
    },
    {
      "cell_type": "code",
      "metadata": {
        "id": "4VbfRvlX8FtH",
        "colab_type": "code",
        "colab": {
          "base_uri": "https://localhost:8080/",
          "height": 34
        },
        "outputId": "8eaf4408-ebde-41d8-bf8f-5b79b43f3ece"
      },
      "source": [
        "len(games[games.victory_status != 'draw'])"
      ],
      "execution_count": null,
      "outputs": [
        {
          "output_type": "execute_result",
          "data": {
            "text/plain": [
              "19152"
            ]
          },
          "metadata": {
            "tags": []
          },
          "execution_count": 16
        }
      ]
    },
    {
      "cell_type": "code",
      "metadata": {
        "id": "6_e8ZYB7-WmN",
        "colab_type": "code",
        "colab": {
          "base_uri": "https://localhost:8080/",
          "height": 34
        },
        "outputId": "049200c3-25d0-45d2-a391-c09cd4f4d304"
      },
      "source": [
        "print(games['turns'].sum())"
      ],
      "execution_count": null,
      "outputs": [
        {
          "output_type": "stream",
          "text": [
            "1212827\n"
          ],
          "name": "stdout"
        }
      ]
    },
    {
      "cell_type": "code",
      "metadata": {
        "id": "NTS4Er7kH7WW",
        "colab_type": "code",
        "colab": {
          "base_uri": "https://localhost:8080/",
          "height": 350
        },
        "outputId": "3f0f4d6b-b69c-4d3c-b393-1d6ffc351b3a"
      },
      "source": [
        "import matplotlib.pyplot as plt\n",
        "\n",
        "games_df = games[\"turns\"].value_counts().reset_index().rename(columns = {\"index\": \"length of game\", \"turns\": \"number of times game appears\"}).sort_values(\"length of game\", ascending = True)\n",
        "\n",
        "x = games_df[\"length of game\"]\n",
        "y = games_df[\"number of times game appears\"]\n",
        "\n",
        "plt.figure(figsize = (15,5))\n",
        "plt.plot(x,y)\n",
        "plt.ylabel('number of games')\n",
        "plt.xlabel(\"length of game\")\n",
        "plt.title(\"Length of Games Distribution\")\n",
        "plt.show()"
      ],
      "execution_count": null,
      "outputs": [
        {
          "output_type": "display_data",
          "data": {
            "image/png": "[encoded data removed]",
            "text/plain": [
              "<Figure size 1080x360 with 1 Axes>"
            ]
          },
          "metadata": {
            "tags": []
          }
        }
      ]
    },
    {
      "cell_type": "markdown",
      "metadata": {
        "id": "HXAzbkZA3fOh",
        "colab_type": "text"
      },
      "source": [
        "### Data Processing"
      ]
    },
    {
      "cell_type": "markdown",
      "metadata": {
        "id": "PvaLA938aiIx",
        "colab_type": "text"
      },
      "source": [
        "###### Setup Functions\n"
      ]
    },
    {
      "cell_type": "code",
      "metadata": {
        "id": "Pz5C-LHtokjh",
        "colab_type": "code",
        "colab": {
          "base_uri": "https://localhost:8080/",
          "height": 34
        },
        "outputId": "a28b100f-a0d9-4ed1-cc22-a00cab3fe508"
      },
      "source": [
        "games['turns'].std()"
      ],
      "execution_count": null,
      "outputs": [
        {
          "output_type": "execute_result",
          "data": {
            "text/plain": [
              "33.570584753537055"
            ]
          },
          "metadata": {
            "tags": []
          },
          "execution_count": 19
        }
      ]
    },
    {
      "cell_type": "code",
      "metadata": {
        "id": "clzicws2iLdA",
        "colab_type": "code",
        "colab": {}
      },
      "source": [
        "cutoff_turns = 30"
      ],
      "execution_count": null,
      "outputs": []
    },
    {
      "cell_type": "code",
      "metadata": {
        "id": "oFSDEdK6oBHL",
        "colab_type": "code",
        "colab": {
          "base_uri": "https://localhost:8080/",
          "height": 51
        },
        "outputId": "bd8ea15f-ca77-4a7d-b1b7-7c75d9f7e4ff"
      },
      "source": [
        "games = games.drop_duplicates(subset='id')\n",
        "games = games[games.winner != 'draw']\n",
        "failed = pd.Series([406, 454, 875, 1032, 1138, 1672, 1700, 1805, 2035, 2123, \\\n",
        "                    2283, 2334, 2377, 2431, 2554, 2944, 2986, 3001, 3156, 3419, 3616, 4223, 4345, 4795, 5184, 5186, 5387, 5417, 5439, 5516, 5605, 5709, \\\n",
        "                    5718, 5916, 5945, 6156, 6332, 6426, 6629, 6684, 7028, 7087, 7268, 7367, 7369, 7572, 8149, 8186, 8221, 8606, 8705, 8769, 8789, 9034, 9081, \\\n",
        "                    9307, 9319, 9324, 9354, 9553, 9672, 9823, 9836, 9846, 9885, 9898, 9903, 9905, 9907, 9945, 9947, 9966, 10018, 10035, 10045, 10048, 10051, 10052, 10054, \\\n",
        "                    10058, 10063, 10080, 10084, 10093, 10102, 10114, 10117, 10124, 10127, 10130, 10132, 10155, 10156, 10157, 10159, 10214, 10224, 10230, 10242, 10246, 10253, \\\n",
        "                    10257, 10261, 10267, 10268, 10284, 10300, 10365, 10376, 10381, 10382, 10383, 10389, 10391, 10418, 10419, 10427, 10430, 10438, 10493, 10499, 10514, 10531, 10532, \\\n",
        "                    10533, 10536, 10538, 10544, 10552, 10555, 10594, 10602, 10604, 10608, 10614, 10628, 10629, 10646, 10658, 10662, 10708, 10778, 10919, 10980, 11113, 11316, 11436, \\\n",
        "                    11548, 11668, 12068, 12554, 12813, 12952, 13056, 13068, 13331, 13361, 13664, 13747, 14560, 14753, 15015, 15586, 15590, 15721, 15730, 15733, 15850, 15898, 15901, \\\n",
        "                    15934, 16179, 16388, 16398, 16414, 16496, 16669, 16762, 16780, 16920, 17132, 17292, 17394, 17569, 17710, 17774, 17779, 17802, 17937, 18061])\n",
        "print(len(games))\n",
        "games = games.drop(games.index[failed])\n",
        "print(len(games))"
      ],
      "execution_count": null,
      "outputs": [
        {
          "output_type": "stream",
          "text": [
            "18225\n",
            "18035\n"
          ],
          "name": "stdout"
        }
      ]
    },
    {
      "cell_type": "code",
      "metadata": {
        "id": "atUQrtVbY-49",
        "colab_type": "code",
        "colab": {
          "base_uri": "https://localhost:8080/",
          "height": 34
        },
        "outputId": "57c25ccd-90ee-447f-c617-1756c10830bd"
      },
      "source": [
        "print(len(games[games.turns >= cutoff_turns]))\n",
        "games_dropped = games[games.turns > cutoff_turns]"
      ],
      "execution_count": null,
      "outputs": [
        {
          "output_type": "stream",
          "text": [
            "15000\n"
          ],
          "name": "stdout"
        }
      ]
    },
    {
      "cell_type": "code",
      "metadata": {
        "id": "tZnmGhVX_z47",
        "colab_type": "code",
        "colab": {
          "base_uri": "https://localhost:8080/",
          "height": 68
        },
        "outputId": "6155a713-1846-462d-be83-2f80aaa82444"
      },
      "source": [
        "print(len(games_dropped[games_dropped.victory_status != 'resign']))\n",
        "games_dropped = games_dropped[games.victory_status != 'resign']"
      ],
      "execution_count": null,
      "outputs": [
        {
          "output_type": "stream",
          "text": [
            "6562\n"
          ],
          "name": "stdout"
        },
        {
          "output_type": "stream",
          "text": [
            "/usr/local/lib/python3.6/dist-packages/ipykernel_launcher.py:2: UserWarning: Boolean Series key will be reindexed to match DataFrame index.\n",
            "  \n"
          ],
          "name": "stderr"
        }
      ]
    },
    {
      "cell_type": "code",
      "metadata": {
        "id": "NQ3aCmdzDTfc",
        "colab_type": "code",
        "colab": {
          "base_uri": "https://localhost:8080/",
          "height": 289
        },
        "outputId": "c93f1b9d-cf95-404b-8751-8e3211e25190"
      },
      "source": [
        "def create_matrices():\n",
        "  piece_matrix = [['r', 'n', 'b', 'q', 'k', 'b', 'n', 'r'],\n",
        "                ['p', 'p', 'p', 'p', 'p', 'p', 'p', 'p'],\n",
        "                [' ', ' ', ' ', ' ', ' ', ' ', ' ', ' '],\n",
        "                [' ', ' ', ' ', ' ', ' ', ' ', ' ', ' '],\n",
        "                [' ', ' ', ' ', ' ', ' ', ' ', ' ', ' '],\n",
        "                [' ', ' ', ' ', ' ', ' ', ' ', ' ', ' '],\n",
        "                ['p', 'p', 'p', 'p', 'p', 'p', 'p', 'p'],\n",
        "                ['r', 'n', 'b', 'q', 'k', 'b', 'n', 'r']\n",
        "                ]\n",
        "\n",
        "  color_matrix = [[2, 2, 2, 2, 2, 2, 2, 2],\n",
        "                  [2, 2, 2, 2, 2, 2, 2, 2],\n",
        "                  [0, 0, 0, 0, 0, 0, 0, 0],\n",
        "                  [0, 0, 0, 0, 0, 0, 0, 0],\n",
        "                  [0, 0, 0, 0, 0, 0, 0, 0],\n",
        "                  [0, 0, 0, 0, 0, 0, 0, 0],\n",
        "                  [1, 1, 1, 1, 1, 1, 1, 1],\n",
        "                  [1, 1, 1, 1, 1, 1, 1, 1]\n",
        "                  ]\n",
        "\n",
        "  return piece_matrix, color_matrix\n",
        "create_matrices()"
      ],
      "execution_count": null,
      "outputs": [
        {
          "output_type": "execute_result",
          "data": {
            "text/plain": [
              "([['r', 'n', 'b', 'q', 'k', 'b', 'n', 'r'],\n",
              "  ['p', 'p', 'p', 'p', 'p', 'p', 'p', 'p'],\n",
              "  [' ', ' ', ' ', ' ', ' ', ' ', ' ', ' '],\n",
              "  [' ', ' ', ' ', ' ', ' ', ' ', ' ', ' '],\n",
              "  [' ', ' ', ' ', ' ', ' ', ' ', ' ', ' '],\n",
              "  [' ', ' ', ' ', ' ', ' ', ' ', ' ', ' '],\n",
              "  ['p', 'p', 'p', 'p', 'p', 'p', 'p', 'p'],\n",
              "  ['r', 'n', 'b', 'q', 'k', 'b', 'n', 'r']],\n",
              " [[2, 2, 2, 2, 2, 2, 2, 2],\n",
              "  [2, 2, 2, 2, 2, 2, 2, 2],\n",
              "  [0, 0, 0, 0, 0, 0, 0, 0],\n",
              "  [0, 0, 0, 0, 0, 0, 0, 0],\n",
              "  [0, 0, 0, 0, 0, 0, 0, 0],\n",
              "  [0, 0, 0, 0, 0, 0, 0, 0],\n",
              "  [1, 1, 1, 1, 1, 1, 1, 1],\n",
              "  [1, 1, 1, 1, 1, 1, 1, 1]])"
            ]
          },
          "metadata": {
            "tags": []
          },
          "execution_count": 24
        }
      ]
    },
    {
      "cell_type": "code",
      "metadata": {
        "id": "xufXEIjU_sZ6",
        "colab_type": "code",
        "colab": {}
      },
      "source": [
        "games_list = []\n",
        "moves_list = []\n",
        "for i in games_dropped['moves']:\n",
        "  games_list.append(i)\n",
        "\n",
        "for i in games_list:\n",
        "  curr =[]\n",
        "  for j in i.split(' '):\n",
        "    curr1 = []\n",
        "    curr1.append(j)\n",
        "    curr.append(curr1)\n",
        "  moves_list.append(curr)\n",
        "\n",
        "# moves_list[0:2]"
      ],
      "execution_count": null,
      "outputs": []
    },
    {
      "cell_type": "code",
      "metadata": {
        "id": "Xks0OqA0WIki",
        "colab_type": "code",
        "colab": {}
      },
      "source": [
        "def number_to_text(row, col):\n",
        "  \"\"\"takes a row, col tuple and returns two letter tile\"\"\"\n",
        "  row_dict = {0: '8',\n",
        "              1: '7',\n",
        "              2: '6',\n",
        "              3: '5',\n",
        "              4: '4',\n",
        "              5: '3',\n",
        "              6: '2',\n",
        "              7: '1'}\n",
        "  \n",
        "  col_dict = {0: 'a',\n",
        "              1: 'b',\n",
        "              2: 'c',\n",
        "              3: 'd',\n",
        "              4: 'e',\n",
        "              5: 'f',\n",
        "              6: 'g',\n",
        "              7: 'h'}\n",
        "  \n",
        "  return col_dict[col] + row_dict[row]\n",
        "\n",
        "\n",
        "def text_to_number(text):\n",
        "  \"\"\"takes a two letter move and returns a tuple of the \n",
        "  row and col\"\"\"\n",
        "  row = int(text[1])\n",
        "  col = text[0]\n",
        "\n",
        "  column_to_number = {\"a\": 0,\n",
        "                    \"b\": 1,\n",
        "                    \"c\": 2,\n",
        "                    \"d\": 3,\n",
        "                    \"e\": 4,\n",
        "                    \"f\": 5,\n",
        "                    \"g\": 6,\n",
        "                    \"h\": 7}\n",
        "\n",
        "  col = column_to_number[col]\n",
        "  row = 8 - row\n",
        "\n",
        "  return row, col"
      ],
      "execution_count": null,
      "outputs": []
    },
    {
      "cell_type": "markdown",
      "metadata": {
        "id": "KPHMXYMYuRoV",
        "colab_type": "text"
      },
      "source": [
        "###### Calc. Range Functions"
      ]
    },
    {
      "cell_type": "code",
      "metadata": {
        "id": "qvM--TE-agrA",
        "colab_type": "code",
        "colab": {}
      },
      "source": [
        "#Note: all tuples are moving along the x and then the y\n",
        "def calc_range_knight(piece_position):\n",
        "  access_range = []\n",
        "  position_numerical = text_to_number(piece_position)\n",
        "  piece_color = color_matrix[position_numerical[0]][position_numerical[1]]\n",
        "  moves = [(2, -1),(2,1),(1, 2),(-1,2),(-2,1),(-2,-1),(-1,-2),(1,-2)] #these are all of the moves of the knight\n",
        "  for move in moves:\n",
        "    new_position = [position_numerical[0]+move[0], position_numerical[1]+move[1]] #get the new position\n",
        "    if in_bounds(new_position[0]) & in_bounds(new_position[1]): #check if in bounds\n",
        "      if color_matrix[new_position[0]][new_position[1]] == 0 | color_matrix[new_position[0]][new_position[1]] != piece_color: # there is not a piece at that position or  the piece is the oposition color - can check the opposite color \n",
        "        access_range.append(number_to_text(new_position[0], new_position[1])) #add that position to the return list - should this be index or the value\n",
        "  return access_range\n",
        "\n",
        "def calc_range_bishop(piece_position):\n",
        "  access_range = []\n",
        "  position_numerical = text_to_number(piece_position) #get the matrix indices of the position\n",
        "  piece_color = color_matrix[position_numerical[0]][position_numerical[1]] #get the piece color code for comparison\n",
        "  directions = [(1,1), (-1,1), (-1,-1), (1,-1)]\n",
        "  for direction in directions:\n",
        "    new_position = position_numerical\n",
        "    while(in_bounds(new_position[0]+direction[0]) & in_bounds(new_position[1]+direction[1])): #check if going to be in bounds when move\n",
        "      new_position = [new_position[0]+direction[0], new_position[1]+direction[1]] #get the new position\n",
        "      if color_matrix[new_position[0]][new_position[1]] == 0: # there is not a piece at that position or  the piece is the oposition color - can check the opposite color \n",
        "        access_range.append(number_to_text(new_position[0], new_position[1])) #add that position to the return list\n",
        "      elif(color_matrix[new_position[0]][new_position[1]] != piece_color):\n",
        "        access_range.append(number_to_text(new_position[0], new_position[1])) #add that position to the return list and stop moving in that direction\n",
        "        break\n",
        "      else:\n",
        "        break  \n",
        "  return access_range\n",
        "\n",
        "def in_bounds(board_index):\n",
        "  if board_index < 0:\n",
        "    return False\n",
        "  elif board_index > 7:\n",
        "    return False\n",
        "  else:\n",
        "    return True"
      ],
      "execution_count": null,
      "outputs": []
    },
    {
      "cell_type": "code",
      "metadata": {
        "id": "2vbbNT072Y5N",
        "colab_type": "code",
        "colab": {}
      },
      "source": [
        "def calc_range_king(square):\n",
        "\n",
        "    possible_moves_list = []\n",
        "\n",
        "    column_to_number = {\"a\": 1,\n",
        "                        \"b\": 2,\n",
        "                        \"c\": 3,\n",
        "                        \"d\": 4,\n",
        "                        \"e\": 5,\n",
        "                        \"f\": 6,\n",
        "                        \"g\": 7,\n",
        "                        \"h\": 8}\n",
        "\n",
        "    number_to_column = {1: \"a\",\n",
        "                        2: \"b\",\n",
        "                        3: \"c\",\n",
        "                        4: \"d\",\n",
        "                        5: \"e\",\n",
        "                        6: \"f\",\n",
        "                        7: \"g\",\n",
        "                        8: \"h\"}\n",
        "\n",
        "    position_list = list(square)\n",
        "\n",
        "    column = position_list[0]\n",
        "    r = position_list[1]\n",
        "    row = int(r)\n",
        "\n",
        "    column_num = column_to_number[column]\n",
        "\n",
        "    piece_color = color_matrix[abs(row-8)][column_num - 1]\n",
        "\n",
        "    if row + 1 in range(1, 9) and color_matrix[abs(row - 7)][column_num - 1] != piece_color:\n",
        "        possible_moves_list.append(number_to_column[column_num] + str(row + 1))\n",
        "\n",
        "    if row - 1 in range(1, 9) and color_matrix[abs(row - 9)][column_num - 1] != piece_color:\n",
        "        possible_moves_list.append(number_to_column[column_num] + str(row - 1))\n",
        "\n",
        "    if column_num + 1 in range(1, 9) and color_matrix[abs(row - 8)][column_num] != piece_color:\n",
        "        possible_moves_list.append(number_to_column[column_num + 1] + str(row))\n",
        "\n",
        "    if column_num - 1 in range(1, 9) and color_matrix[abs(row - 8)][column_num - 2] != piece_color:\n",
        "        possible_moves_list.append(number_to_column[column_num - 1] + str(row))\n",
        "\n",
        "    if row + 1 in range(1, 9) and column_num + 1 in range(1, 9) and color_matrix[abs(row - 7)][column_num] != piece_color:\n",
        "        possible_moves_list.append(number_to_column[column_num + 1] + str(row + 1))\n",
        "\n",
        "    if row - 1 in range(1, 9) and column_num + 1 in range(1, 9) and color_matrix[abs(row - 9)][column_num] != piece_color:\n",
        "        possible_moves_list.append(number_to_column[column_num + 1] + str(row - 1))\n",
        "\n",
        "    if row - 1 in range(1, 9) and column_num - 1 in range(1, 9) and color_matrix[abs(row - 9)][column_num - 2] != piece_color:\n",
        "        possible_moves_list.append(number_to_column[column_num - 1] + str(row - 1))\n",
        "\n",
        "    if row + 1 in range(1, 9) and column_num - 1 in range(1, 9) and color_matrix[abs(row - 7)][column_num - 2] != piece_color:\n",
        "        possible_moves_list.append(number_to_column[column_num - 1] + str(row + 1))\n",
        "\n",
        "    return possible_moves_list"
      ],
      "execution_count": null,
      "outputs": []
    },
    {
      "cell_type": "code",
      "metadata": {
        "id": "-myKOLkl2dl1",
        "colab_type": "code",
        "colab": {}
      },
      "source": [
        "def calc_range_queen(square):\n",
        "\n",
        "    possible_moves_list = []\n",
        "\n",
        "    column_to_number = {\"a\": 1,\n",
        "                        \"b\": 2,\n",
        "                        \"c\": 3,\n",
        "                        \"d\": 4,\n",
        "                        \"e\": 5,\n",
        "                        \"f\": 6,\n",
        "                        \"g\": 7,\n",
        "                        \"h\": 8}\n",
        "\n",
        "    number_to_column = {1: \"a\",\n",
        "                        2: \"b\",\n",
        "                        3: \"c\",\n",
        "                        4: \"d\",\n",
        "                        5: \"e\",\n",
        "                        6: \"f\",\n",
        "                        7: \"g\",\n",
        "                        8: \"h\"}\n",
        "\n",
        "    position_list = list(square)\n",
        "\n",
        "    column = position_list[0]\n",
        "    r = position_list[1]\n",
        "    row = int(r)\n",
        "\n",
        "    column_num = column_to_number[column]\n",
        "\n",
        "    piece_color = color_matrix[abs(row - 8)][column_num - 1]\n",
        "\n",
        "    # up\n",
        "    for i in range(1, 8):\n",
        "        if row + i in range(1, 9) and color_matrix[abs(row - 8 + i)][column_num - 1] != piece_color:\n",
        "            possible_moves_list.append(number_to_column[column_num] + str(row + i))\n",
        "            if color_matrix[abs(row - 8 + i)][column_num - 1] != 0:\n",
        "                break\n",
        "        else:\n",
        "            break\n",
        "\n",
        "    # down\n",
        "    for i in range(1, 8):\n",
        "        if row - i in range(1, 9) and color_matrix[abs(row - 8 - i)][column_num - 1] != piece_color:\n",
        "            possible_moves_list.append(number_to_column[column_num] + str(row - i))\n",
        "            if color_matrix[abs(row - 8 - i)][column_num - 1] != 0:\n",
        "                break\n",
        "        else:\n",
        "            break\n",
        "\n",
        "    # right\n",
        "    for i in range(1, 8):\n",
        "        if column_num + i in range(1, 9) and color_matrix[abs(row - 8)][column_num + i - 1] != piece_color:\n",
        "            possible_moves_list.append(number_to_column[column_num + i] + str(row))\n",
        "            if color_matrix[abs(row - 8)][column_num + i - 1] != 0:\n",
        "                break\n",
        "        else:\n",
        "            break\n",
        "\n",
        "    # left\n",
        "    for i in range(1, 8):\n",
        "        if column_num - i in range(1, 9) and color_matrix[abs(row - 8)][column_num - i - 1] != piece_color:\n",
        "            possible_moves_list.append(number_to_column[column_num - i] + str(row))\n",
        "            if color_matrix[abs(row - 8)][column_num - i - 1] != 0:\n",
        "                break\n",
        "        else:\n",
        "            break\n",
        "\n",
        "    # northeast\n",
        "    for i in range(1, 8):\n",
        "        if row + i in range(1, 9) and column_num + i in range(1, 9) and color_matrix[abs(row - 8 + i)][column_num - 1 + i] != piece_color:\n",
        "            possible_moves_list.append(number_to_column[column_num + i] + str(row + i))\n",
        "            if color_matrix[abs(row - 8 + i)][column_num - 1 + i] != 0:\n",
        "                break\n",
        "        else:\n",
        "            break\n",
        "\n",
        "    # southeast\n",
        "    for i in range(1, 8):\n",
        "        if row - i in range(1, 9) and column_num + i in range(1, 9) and color_matrix[abs(row - 8 - i)][column_num - 1 + i] != piece_color:\n",
        "            possible_moves_list.append(number_to_column[column_num + i] + str(row - i))\n",
        "            if color_matrix[abs(row - 8 - i)][column_num - 1 + i] != 0:\n",
        "                break\n",
        "        else:\n",
        "            break\n",
        "\n",
        "    # southwest\n",
        "    for i in range(1, 8):\n",
        "        if row - i in range(1, 9) and column_num - i in range(1, 9) and color_matrix[abs(row - 8 - i)][column_num - 1 - i] != piece_color:\n",
        "            possible_moves_list.append(number_to_column[column_num - i] + str(row - i))\n",
        "            if color_matrix[abs(row - 8 - i)][column_num - 1 - i] != 0:\n",
        "                break\n",
        "        else:\n",
        "            break\n",
        "\n",
        "    # northwest\n",
        "    for i in range(1, 8):\n",
        "        if row + i in range(1, 9) and column_num - i in range(1, 9) and color_matrix[abs(row - 8 + i)][column_num - 1 - i] != piece_color:\n",
        "            possible_moves_list.append(number_to_column[column_num - i] + str(row + i))\n",
        "            if color_matrix[abs(row - 8 + i)][column_num - 1 - i] != 0:\n",
        "                break\n",
        "        else:\n",
        "            break\n",
        "\n",
        "    return possible_moves_list"
      ],
      "execution_count": null,
      "outputs": []
    },
    {
      "cell_type": "code",
      "metadata": {
        "id": "OmAFiGWH2fNH",
        "colab_type": "code",
        "colab": {}
      },
      "source": [
        "# global indexing for the alpha and indices on the chess baord\n",
        "# need to finalize with the indexing start- 0 or 1 // TO DO with vote from everyone\n",
        "import numpy as np\n",
        "\n",
        "chess_map_from_alpha_to_index = {\n",
        "    \"a\" : 0,\n",
        "    \"b\" : 1,\n",
        "    \"c\" : 2,\n",
        "    \"d\" : 3,\n",
        "    \"e\" : 4,\n",
        "    \"f\" : 5,\n",
        "    \"g\" : 6,\n",
        "    \"h\" : 7\n",
        "}\n",
        "\n",
        "chess_map_from_index_to_alpha = {\n",
        "    0: \"a\",\n",
        "    1: \"b\",\n",
        "    2: \"c\",\n",
        "    3: \"d\",\n",
        "    4: \"e\",\n",
        "    5: \"f\",\n",
        "    6: \"g\",\n",
        "    7: \"h\"\n",
        "}\n"
      ],
      "execution_count": null,
      "outputs": []
    },
    {
      "cell_type": "code",
      "metadata": {
        "id": "-o1mdK0E2iz6",
        "colab_type": "code",
        "colab": {}
      },
      "source": [
        "# pawn function for accessible squares.\n",
        "def calc_range_pawn(cur_pawn_pos):\n",
        "\n",
        "      chess_map_from_alpha_to_index = {\n",
        "          \"a\" : 0,\n",
        "          \"b\" : 1,\n",
        "          \"c\" : 2,\n",
        "          \"d\" : 3,\n",
        "          \"e\" : 4,\n",
        "          \"f\" : 5,\n",
        "          \"g\" : 6,\n",
        "          \"h\" : 7\n",
        "      }\n",
        "\n",
        "      chess_map_from_index_to_alpha = {\n",
        "          0: \"a\",\n",
        "          1: \"b\",\n",
        "          2: \"c\",\n",
        "          3: \"d\",\n",
        "          4: \"e\",\n",
        "          5: \"f\",\n",
        "          6: \"g\",\n",
        "          7: \"h\"\n",
        "      }\n",
        "\n",
        "      possible_moves = []\n",
        "      cur_pos = list(cur_pawn_pos) \n",
        "\n",
        "      pos_col = cur_pos[0]\n",
        "      pos_row = cur_pos[1]\n",
        "\n",
        "      column = chess_map_from_alpha_to_index[pos_col]\n",
        "      row = 8 - int(pos_row)\n",
        "      color = color_matrix[row][column]\n",
        "\n",
        "      if(color == 0):\n",
        "        raise Exception('Illegal Move! No piece present at position {}'.format(cur_pawn_pos))\n",
        "      \n",
        "      board = color_matrix      \n",
        "      \n",
        "      if(color == 1):\n",
        "        # white\n",
        "        if(row == 6): # check if starting at the initial position for white pawn\n",
        "          x = row - 1\n",
        "          for i in range(-1,2,2):\n",
        "            y = column + i\n",
        "            if y>=0 and y<8:\n",
        "              if board[x][y] != color and board[x][y] != 0:\n",
        "                c = chess_map_from_index_to_alpha[y]\n",
        "                possible_moves.append((c,str(8-x)))\n",
        "\n",
        "          for i in range(2):\n",
        "            x = row - i - 1\n",
        "            #print('Column {} Row {}'.format(column, x))\n",
        "            if board[x][column] == 0 : #and new_row+1 < 8: \n",
        "              c = chess_map_from_index_to_alpha[column]\n",
        "              possible_moves.append((c,str(8-x)))\n",
        "            elif board[x][column] != color:\n",
        "              break\n",
        "        else: # check if white pawn not at the initial position\n",
        "          x = row - 1\n",
        "          if x >=0:\n",
        "            if board[x][column] == 0 :#or board[x][column] != color: # and row-1 < 8:\n",
        "              c = chess_map_from_index_to_alpha[column]\n",
        "              possible_moves.append((c,str(8-x)))\n",
        "\n",
        "            for i in range(-1,2,2):\n",
        "              y = column + i\n",
        "              if y>=0 and y<8:\n",
        "                if board[x][y] != color and board[x][y] != 0:\n",
        "                  c = chess_map_from_index_to_alpha[y]\n",
        "                  possible_moves.append((c,str(8-x)))\n",
        "\n",
        "      else:\n",
        "        # black\n",
        "        if (row == 1): # check if starting at the initial position for black pawn\n",
        "          x = row + 1\n",
        "          for i in range(-1,2,2):\n",
        "            y = column + i\n",
        "            if y>=0 and y<8:\n",
        "              if board[x][y] != color and board[x][y] != 0:\n",
        "                c = chess_map_from_index_to_alpha[y]\n",
        "                possible_moves.append((c,str(8-x)))\n",
        "\n",
        "          for i in range(2):\n",
        "            x = row + i + 1\n",
        "            if board[x][column] == 0 : #and new_row+1 < 8: \n",
        "              c = chess_map_from_index_to_alpha[column]\n",
        "              possible_moves.append((c,str(8-x)))\n",
        "            elif board[x][column] !=color:\n",
        "              break\n",
        "\n",
        "        else: # check if black pawn not at the initial position\n",
        "          x = row + 1\n",
        "          if x < 8:\n",
        "            if board[x][column] == 0 :#or board[x][column] != color:\n",
        "              c = chess_map_from_index_to_alpha[column]\n",
        "              possible_moves.append((c,str(8-x)))\n",
        "\n",
        "            for i in range(-1,2,2):\n",
        "              y = column + i\n",
        "              if y>=0 and y<8:\n",
        "                if board[x][y] != color and board[x][y] != 0:\n",
        "                  c = chess_map_from_index_to_alpha[y]\n",
        "                  possible_moves.append((c,str(8-x)))\n",
        "\n",
        "\n",
        "      possible_moves = [\"\".join([i[0], i[1]]) for i in possible_moves]\n",
        "\n",
        "    \n",
        "      return possible_moves"
      ],
      "execution_count": null,
      "outputs": []
    },
    {
      "cell_type": "code",
      "metadata": {
        "id": "VyOP4RZE2lHa",
        "colab_type": "code",
        "colab": {}
      },
      "source": [
        "# Rook function for accessible squares\n",
        "def calc_range_rook(cur_rook_pos):\n",
        "\n",
        "  chess_map_from_alpha_to_index = {\n",
        "      \"a\" : 0,\n",
        "      \"b\" : 1,\n",
        "      \"c\" : 2,\n",
        "      \"d\" : 3,\n",
        "      \"e\" : 4,\n",
        "      \"f\" : 5,\n",
        "      \"g\" : 6,\n",
        "      \"h\" : 7\n",
        "  }\n",
        "\n",
        "  chess_map_from_index_to_alpha = {\n",
        "      0: \"a\",\n",
        "      1: \"b\",\n",
        "      2: \"c\",\n",
        "      3: \"d\",\n",
        "      4: \"e\",\n",
        "      5: \"f\",\n",
        "      6: \"g\",\n",
        "      7: \"h\"\n",
        "  }\n",
        "\n",
        "  possible_moves = []\n",
        "  cur_pos = list(cur_rook_pos)\n",
        " \n",
        "\n",
        "  pos_col = cur_pos[0]\n",
        "  pos_row = cur_pos[1]\n",
        "\n",
        "  column = chess_map_from_alpha_to_index[pos_col]\n",
        "  row = 8 - int(pos_row)\n",
        "  color = color_matrix[row][column]\n",
        "\n",
        "  if(color == 0):\n",
        "    raise Exception('Illegal Move! No piece present at position {}'.format(cur_rook_pos))\n",
        "\n",
        "  board = color_matrix\n",
        "  x0 = row\n",
        "  y0 = column\n",
        "\n",
        "\n",
        "  for i, j in [[1, 0], [0, 1], [-1, 0], [0, -1]]:\n",
        "    x = x0 + i\n",
        "    y = y0 + j\n",
        "    while 0 <= x < 8 and 0 <= y < 8:\n",
        "        if board[x][y] == 0 :\n",
        "          c = chess_map_from_index_to_alpha[y]\n",
        "          possible_moves.append((c,str(8-x)))\n",
        "        elif board[x][y] !=color:\n",
        "          c = chess_map_from_index_to_alpha[y]\n",
        "          possible_moves.append((c,str(8-x)))\n",
        "          break\n",
        "        else:\n",
        "          break\n",
        "        x = x + i\n",
        "        y = y + j\n",
        "\n",
        "  possible_moves = [\"\".join([i[0], i[1]]) for i in possible_moves]\n",
        "\n",
        "\n",
        "  return possible_moves"
      ],
      "execution_count": null,
      "outputs": []
    },
    {
      "cell_type": "code",
      "metadata": {
        "id": "rPPDVEehQvq-",
        "colab_type": "code",
        "colab": {}
      },
      "source": [
        ""
      ],
      "execution_count": null,
      "outputs": []
    },
    {
      "cell_type": "markdown",
      "metadata": {
        "id": "OC_Sks8c4S-7",
        "colab_type": "text"
      },
      "source": [
        "##### Test Code"
      ]
    },
    {
      "cell_type": "markdown",
      "metadata": {
        "id": "67nWBXOc5Kv2",
        "colab_type": "text"
      },
      "source": [
        "###### Update Board"
      ]
    },
    {
      "cell_type": "code",
      "metadata": {
        "id": "CJuZCLNCjPVY",
        "colab_type": "code",
        "cellView": "code",
        "colab": {}
      },
      "source": [
        " \n",
        " def update_board(move, white):\n",
        "    \"\"\"Move = the move being made\n",
        "       White = boolean, true if it is a white move\"\"\"\n",
        "\n",
        "    # I CHANGED ALL THE PIECE MATRIX TO GAME STATE AND REDID THE GAMESTATE MATRIX SEVERAL CELLS UP SO THAT THE OUTPUT IS CLEANER\n",
        "    # ALSO CHANGED THE COLOR MATRIX SO IT WORKS WITH THESE FUNCTIONS\n",
        "\n",
        "    # a variable to distinguish blacks moves from whites moves\n",
        "    # if its whites move, color = 1, else it equals -1\n",
        "    color = 1 if white else -1\n",
        "    updated = False\n",
        "    promotion = False\n",
        "\n",
        "    if move[-1] == '#':\n",
        "      return\n",
        "    \n",
        "    if move[-1] == '+':\n",
        "      move = move[:len(move)-1]\n",
        "\n",
        "    if '=' in move:\n",
        "      move, promo_piece = move.split('=')\n",
        "      promotion = True\n",
        "\n",
        "    # if it is a pawn\n",
        "    if len(move) == 2:\n",
        "      # get the row and column of the move\n",
        "      i, j = text_to_number(move)\n",
        "        # the range of the pawn (1, 2)\n",
        "      for y in range(1,3):\n",
        "        # looks above on black move, below on white move\n",
        "        if piece_matrix[i+(y*color)][j] == 'p' and \\\n",
        "        color_matrix[i+(y*color)][j] == round(1.5 + (color*-1.0)/2):\n",
        "          # move the pawn to i,j and set where it came from to empty\n",
        "          piece_matrix[i][j] = 'p'\n",
        "          # if white = true, will set color_matrix[i][j] to 1, else to 2\n",
        "          color_matrix[i][j] = round(1.5 + (color*-1.0)/2)\n",
        "          piece_matrix[i+(y*color)][j] = ' '\n",
        "          color_matrix[i+(y*color)][j] = 0\n",
        "          updated = True\n",
        "          break\n",
        "\n",
        "    # if it is a non-pawn moving to an empty square that doesn't result in check\n",
        "    # or a kingside castle\n",
        "    if len(move) == 3:\n",
        "      # if its a normal move\n",
        "      if move[0] in ['N', 'B', 'K', 'Q', 'R']:\n",
        "        # gets the piece that made the move\n",
        "        piece = move[0].lower()\n",
        "        # removes the piece name to get it down to 2 letters\n",
        "        move = move[1:]\n",
        "        # row, col, represents the target move\n",
        "        row, col = text_to_number(move)\n",
        "        # iterates over the board\n",
        "        # i, j represents the piece we are moving\n",
        "        for i in range(8):\n",
        "          for j in range(8):\n",
        "            # if the piece on i,j is the type and color we are looking for\n",
        "            # round(1.5 + color/2) evaluates to 1 on white turn 2 on black turn\n",
        "            if piece_matrix[i][j] == piece and \\\n",
        "            color_matrix[i][j] == round(1.5 + (-1.0*color)/2):\n",
        "              # checks if the piece on i,j can move to 'move'\n",
        "              if calc_range(piece, move, i, j):\n",
        "                # move the piece to i,j and set where it came from to empty\n",
        "                piece_matrix[row][col] = piece\n",
        "                # if white = true, will set color_matrix[i][j] to 1, else to 2\n",
        "                color_matrix[row][col] = round(1.5 + (color*-1.0)/2)\n",
        "                piece_matrix[i][j] = ' '\n",
        "                color_matrix[i][j] = 0\n",
        "                updated = True\n",
        "\n",
        "      # if its a kingside castle\n",
        "      if move == 'O-O':\n",
        "        # to represent the row in which the castle is occuring\n",
        "        row = 7 if white else 0\n",
        "        # we know that the king is in col 4\n",
        "        col = 4\n",
        "        # move the king and rook\n",
        "        piece_matrix[row][col+2] = 'k'\n",
        "        color_matrix[row][col+2] = color_matrix[row][col]\n",
        "        piece_matrix[row][col+1] = 'r'\n",
        "        color_matrix[row][col+1] = color_matrix[row][col]\n",
        "        # set the kings original position to empty\n",
        "        piece_matrix[row][col] = ' '\n",
        "        color_matrix[row][col] = 0\n",
        "        piece_matrix[row][col+3] = ' '\n",
        "        color_matrix[row][col+3] = 0\n",
        "        updated = True\n",
        "        \n",
        "\n",
        "        \n",
        "\n",
        "      \n",
        "\n",
        "    # considers piece captures\n",
        "    if len(move) == 4:\n",
        "      if move[1] in ['a', 'b', 'c', 'd', 'e', 'f', 'g', 'h']:\n",
        "        piece = move[0].lower()\n",
        "        row, col = text_to_number(move[2:])\n",
        "        _, col2 = text_to_number(move[1]+move[3])\n",
        "        for i in range(8):\n",
        "          if piece_matrix[i][col2] == piece and \\\n",
        "            color_matrix[i][col2] == round(1.5 + (-1.0*color)/2):\n",
        "              # checks if the piece on i,j can move to 'move'\n",
        "              if calc_range(piece, move[2:], i, col2):\n",
        "                # move the piece to i,j and set where it came from to empty\n",
        "                piece_matrix[row][col] = piece\n",
        "                # if white = true, will set color_matrix[i][j] to 1, else to 2\n",
        "                color_matrix[row][col] = round(1.5 + (color*-1.0)/2)\n",
        "                piece_matrix[i][col2] = ' '\n",
        "                color_matrix[i][col2] = 0\n",
        "                updated = True\n",
        "\n",
        "      if move[1].isnumeric():\n",
        "        piece = move[0].lower()\n",
        "        row, col = text_to_number(move[2:])\n",
        "        row2, _ = text_to_number(move[2]+move[1])\n",
        "        for j in range(8):\n",
        "          if piece_matrix[row2][j] == piece and \\\n",
        "            color_matrix[row2][j] == round(1.5 + (-1.0*color)/2):\n",
        "              # checks if the piece on i,j can move to 'move'\n",
        "              if calc_range(piece, move[2:], row2, j):\n",
        "                # move the piece to i,j and set where it came from to empty\n",
        "                piece_matrix[row][col] = piece\n",
        "                # if white = true, will set color_matrix[i][j] to 1, else to 2\n",
        "                color_matrix[row][col] = round(1.5 + (color*-1.0)/2)\n",
        "                piece_matrix[row2][j] = ' '\n",
        "                color_matrix[row2][j] = 0\n",
        "                updated = True\n",
        "\n",
        "      # if its a capture\n",
        "      if 'x' in move:\n",
        "        x_index = move.index('x')\n",
        "        # if it was not a pawn that made the capture\n",
        "        if move[0].isupper():\n",
        "          # remove the x and call the function with the resulting 3 letter string\n",
        "          move = move[:x_index] + move[x_index+1:]\n",
        "          update_board(move, white)\n",
        "          updated = True\n",
        "        else:\n",
        "          i, j = text_to_number(move[2:])\n",
        "          # col = column pawn came from\n",
        "          _, col = text_to_number(move[0] + move[3])\n",
        "          # if there is no piece in the destination square, so its En Passant\n",
        "          if(color_matrix[i][j] == 0):\n",
        "            piece_matrix[i+color][j] = ' '\n",
        "            color_matrix[i+color][j] = 0\n",
        "            piece_matrix[i+color][col] = ' '\n",
        "            color_matrix[i+color][col] = 0\n",
        "            piece_matrix[i][j] = 'p'\n",
        "            color_matrix[i][j] = round(1.5 + (color*-1.0)/2)\n",
        "            updated = True\n",
        "          else:\n",
        "            # pawn captures are in the form cxd6, so the pawn in col c took d6\n",
        "            # i, j = row, col that the pawn moved to\n",
        "            i, j = text_to_number(move[2:])\n",
        "            # move the piece to i,j and set where it came from to empty\n",
        "            piece_matrix[i][j] = 'p'\n",
        "            # if white = true, will set color_matrix[i][j] to 1, else to 2\n",
        "            color_matrix[i][j] = round(1.5 + (color*-1.0)/2)\n",
        "            piece_matrix[i+(color)][col] = ' '\n",
        "            color_matrix[i+(color)][col] = 0\n",
        "            updated = True\n",
        "        \n",
        "\n",
        "      \n",
        "    if len(move) == 5:\n",
        "      if move == 'O-O-O':\n",
        "        # to represent the row in which the castle is occuring\n",
        "        row = 7 if white else 0\n",
        "        # we know that the king is in col 4\n",
        "        col = 4\n",
        "        # move the king and rook\n",
        "        piece_matrix[row][col-2] = 'k'\n",
        "        color_matrix[row][col-2] = color_matrix[row][col]\n",
        "        piece_matrix[row][col-1] = 'r'\n",
        "        color_matrix[row][col-1] = color_matrix[row][col]\n",
        "        # set the king and rooks original position to empty\n",
        "        piece_matrix[row][col] = ' '\n",
        "        color_matrix[row][col] = 0\n",
        "        piece_matrix[row][0] = ' '\n",
        "        color_matrix[row][0] = 0\n",
        "        updated = True\n",
        "      \n",
        "      if \"x\" in move:\n",
        "        x_index = move.index('x')\n",
        "        move2 = move[:x_index] + move[x_index + 1:]\n",
        "        update_board(move2, white)\n",
        "        updated = True\n",
        "\n",
        "\n",
        "\n",
        "    if promotion:\n",
        "      move = move[len(move)-2:]\n",
        "      row, col = text_to_number(move)\n",
        "      piece_matrix[row][col] = promo_piece.lower()\n",
        "\n",
        "\n",
        "    if not updated:\n",
        "      raise NotImplementedError(\"No update defined for move \" + move)\n",
        "      \n",
        "        \n",
        "\n",
        "    # visualises the board\n",
        "    # for i in piece_matrix:\n",
        "    #   print(i)\n",
        "    # print(\"\")\n",
        "    # for i in color_matrix:\n",
        "    #   print(i)\n",
        "\n",
        "\n",
        "def calc_range(piece, move, i, j):\n",
        "\n",
        "  # converts the square i,j to text\n",
        "  row, col = number_to_text(i, j)\n",
        "  # joins the letter and number into one string\n",
        "  s_move = row + col\n",
        "  # for the piece passed in, return true if it can move to the square\n",
        "  # that is detailed in move\n",
        "  if piece == 'p':\n",
        "    if move in calc_range_pawn(s_move):\n",
        "      return True\n",
        "  if piece == 'n':\n",
        "    if move in calc_range_knight(s_move):\n",
        "      return True\n",
        "  if piece == 'k':\n",
        "    if move in calc_range_king(s_move):\n",
        "      return True\n",
        "  if piece == 'q':\n",
        "    if move in calc_range_queen(s_move):\n",
        "      return True\n",
        "  if piece == 'b':\n",
        "    if move in calc_range_bishop(s_move):\n",
        "      return True\n",
        "  if piece == 'r':\n",
        "    if move in calc_range_rook(s_move):\n",
        "      return True\n",
        "  \n",
        "  # otherwise, return false\n",
        "  return False\n",
        "\n",
        "# Commented out code block below and used this one line for testing matrix printout \n",
        "# Need to rerun the gamestate and color matrices before testing the code using this one line.\n",
        "# update_board(\"a3\", True)\n",
        "\n",
        "\n",
        "# for game in moves_list:\n",
        "#   move_num = 0\n",
        "#   for feature in game:\n",
        "#     for move in feature:\n",
        "#       white = (move_num%2 == 0)\n",
        "#       update_board(move, white)\n",
        "#     move_num += 1"
      ],
      "execution_count": null,
      "outputs": []
    },
    {
      "cell_type": "code",
      "metadata": {
        "id": "z_Vo6nT5qdRN",
        "colab_type": "code",
        "colab": {
          "base_uri": "https://localhost:8080/"
        },
        "outputId": "6e4f161e-704f-45ae-c652-dba1c0f6a99a"
      },
      "source": [
        "print(games.iloc[700][['victory_status', 'winner']])\n",
        "print(games.iloc[700]['moves'])"
      ],
      "execution_count": null,
      "outputs": [
        {
          "output_type": "stream",
          "text": [
            "victory_status    resign\n",
            "winner             white\n",
            "Name: 738, dtype: object\n",
            "d4 d5 Nf3 Nc6 Bf4 e6 e3 Nf6 Bd3 b6 Nbd2 Bb7 O-O Be7 h3 O-O a3 Na5 b4 Nc4 Nxc4 dxc4 Bxc4 Qd7 Ne5 Qa4 c3 Bd6 Qxa4\n"
          ],
          "name": "stdout"
        }
      ]
    },
    {
      "cell_type": "markdown",
      "metadata": {
        "id": "DbeqK5BK54Fn",
        "colab_type": "text"
      },
      "source": [
        "##### Feature Functions"
      ]
    },
    {
      "cell_type": "code",
      "metadata": {
        "id": "CP8l87LkJkpE",
        "colab_type": "code",
        "colab": {}
      },
      "source": [
        "def get_piece_value(letter):\n",
        "  \"\"\" Gets the value of each piece\"\"\"\n",
        "\n",
        "  letter = letter.lower()\n",
        "\n",
        "  value_dict = {\"p\": 1,\n",
        "                \"n\": 3,\n",
        "                \"b\": 3,\n",
        "                \"r\": 5,\n",
        "                \"q\": 9,\n",
        "                \"k\": 0}\n",
        "\n",
        "  return value_dict[letter]"
      ],
      "execution_count": null,
      "outputs": []
    },
    {
      "cell_type": "code",
      "metadata": {
        "id": "1IAr3okVJ0aM",
        "colab_type": "code",
        "colab": {}
      },
      "source": [
        "def value_left():\n",
        "  \"\"\" Returns white, black sum of piece values remainig\"\"\"\n",
        "\n",
        "  white_value_left = 0\n",
        "  black_value_left = 0\n",
        "\n",
        "  for i in range(len(color_matrix)):\n",
        "      for j in range(len(color_matrix)):\n",
        "          if color_matrix[i][j] == 0:\n",
        "              continue\n",
        "          elif color_matrix[i][j] == 1:\n",
        "              letter = piece_matrix[i][j]\n",
        "              value = get_piece_value(letter)\n",
        "              white_value_left += value\n",
        "          else:\n",
        "              letter = piece_matrix[i][j]\n",
        "              value = get_piece_value(letter)\n",
        "              black_value_left += value\n",
        "\n",
        "  return white_value_left, black_value_left"
      ],
      "execution_count": null,
      "outputs": []
    },
    {
      "cell_type": "code",
      "metadata": {
        "id": "8lowuoEsEtHN",
        "colab_type": "code",
        "colab": {}
      },
      "source": [
        "def accessible_squares_count():\n",
        "  \"\"\" Feature Extraction Function: Returns white, black # of accessible squares\"\"\"\n",
        "  \n",
        "  #Get the list of unique accessible squares\n",
        "  white_accessible_squares, black_accessible_squares = get_accessible_squares_set()\n",
        "  \n",
        "  #Return the counts of the accessible squares\n",
        "  return len(white_accessible_squares), len(black_accessible_squares)\n",
        "\n",
        "def get_accessible_squares_set():\n",
        "  \"\"\" Feature Helper Function: Returns a set of squares that are accessible\"\"\"\n",
        "  white_accessible_squares = []\n",
        "  black_accessible_squares = []\n",
        "\n",
        "  #Iterate through the board, get the particular calc range function to call \n",
        "  for row in range(8):\n",
        "    for col in range(8):\n",
        "      piece = piece_matrix[row][col]\n",
        "      if piece != \" \":\n",
        "        calc_range_function = get_calc_range_function_to_call(piece)\n",
        "        # print(row, col)\n",
        "        squares = calc_range_function(number_to_text(row,col))\n",
        "        if color_matrix[row][col] == 1: #TO DO - double check this is correct\n",
        "            white_accessible_squares.append(squares)\n",
        "        else: \n",
        "            black_accessible_squares.append(squares)\n",
        "  \n",
        "  white_accessible_flatten = [item for sublist in white_accessible_squares for item in sublist]\n",
        "  \n",
        "  black_accessible_flatten = [item for sublist in black_accessible_squares for item in sublist]\n",
        "\n",
        "  #Get unique values\n",
        "  white_accessible_unique=list(set(white_accessible_flatten))\n",
        "\n",
        "  black_accessible_unique=list(set(black_accessible_flatten))\n",
        "\n",
        "  return white_accessible_unique, black_accessible_unique\n",
        "\n",
        "def get_calc_range_function_to_call(piece):\n",
        "      piece_to_function = {\"r\": calc_range_rook,\n",
        "                        \"n\": calc_range_knight,\n",
        "                        \"b\": calc_range_bishop,\n",
        "                        \"q\": calc_range_queen,\n",
        "                        \"k\": calc_range_king,\n",
        "                        \"p\": calc_range_pawn}\n",
        "      return piece_to_function[piece]\n",
        "\n",
        "def value_vulnerable_pieces():\n",
        "  \"\"\" Returns white, black value of vulnerable pieces\"\"\"\n",
        "\n",
        "  #Gets the list of accessible squares for black and white\n",
        "  white_accessible_squares, black_accessible_squares = get_accessible_squares_set()\n",
        "\n",
        "  #Initialize return variables\n",
        "  white_vulnerable_piece_value = 0\n",
        "  black_vulnerable_piece_value = 0\n",
        "\n",
        "  #Iterate through the black accessible squares, check if white piece exists there, get value of that piece and add to total\n",
        "  for square in black_accessible_squares:\n",
        "    row, col = text_to_number(square)\n",
        "    if color_matrix[row][col] == 1: #if the piece is white (opposite color)\n",
        "       piece = piece_matrix[row][col]\n",
        "       white_vulnerable_piece_value += get_piece_value(piece)\n",
        "\n",
        "  #Iterate through the white accessible squares, check if black piece exists there, get value of that piece and add to total\n",
        "  for square in white_accessible_squares:\n",
        "    row, col = text_to_number(square)\n",
        "    if color_matrix[row][col] == 2: #if the piece is black (opposite color)\n",
        "       piece = piece_matrix[row][col]\n",
        "       black_vulnerable_piece_value += get_piece_value(piece)\n",
        "\n",
        "  return white_vulnerable_piece_value, black_vulnerable_piece_value"
      ],
      "execution_count": null,
      "outputs": []
    },
    {
      "cell_type": "code",
      "metadata": {
        "id": "tkQp5z6tKusU",
        "colab_type": "code",
        "colab": {}
      },
      "source": [
        "def check_feature(move):\n",
        "  check = 0\n",
        "  if move.find('+')!=-1:\n",
        "    check = 1\n",
        "  \n",
        "  return check\n"
      ],
      "execution_count": null,
      "outputs": []
    },
    {
      "cell_type": "markdown",
      "metadata": {
        "id": "L8IFEnhw5_QV",
        "colab_type": "text"
      },
      "source": [
        "#Next Steps"
      ]
    },
    {
      "cell_type": "markdown",
      "metadata": {
        "id": "Wlc4rWM14BgX",
        "colab_type": "text"
      },
      "source": [
        "### Model Building"
      ]
    },
    {
      "cell_type": "code",
      "metadata": {
        "id": "grTPmNR2GSSq",
        "colab_type": "code",
        "colab": {}
      },
      "source": [
        "def assign_labels(prev, indices):\n",
        "  labels = []\n",
        "  for i in range(len(games_dropped)):\n",
        "    move_winner = []\n",
        "    if games_dropped['victory_status'].iloc[i] == \"mate\":\n",
        "      move_winner.append(games_dropped['turns'].iloc[i])\n",
        "      move_winner.append(1) # player won\n",
        "    elif games_dropped['victory_status'].iloc[i] == \"resign\":\n",
        "      move_winner.append(games_dropped['turns'].iloc[i])\n",
        "      if move_winner[0] % 2 == 0 and games_dropped['winner'].iloc[i] == \"black\":\n",
        "        move_winner.append(1) # player won\n",
        "      elif move_winner[0] % 2 == 1 and games_dropped['winner'].iloc[i] == \"white\":\n",
        "        move_winner.append(1) # player won\n",
        "      else:\n",
        "        move_winner.append(0) # player lost\n",
        "    else: # for out of time games games['victory_status'].iloc[i] == \"outoftime\":\n",
        "      move_winner.append(games_dropped['turns'].iloc[i])\n",
        "      move_winner.append(1) # player won\n",
        "    \n",
        "    labels.append(move_winner)\n",
        "  \n",
        "  train_labels = []\n",
        "  test_labels = []\n",
        "  # for the label of each game\n",
        "  game_num = 0\n",
        "  for label in labels:\n",
        "    winner = label[0] + label[1]\n",
        "    # if the sum of both values is even, first player (white) won\n",
        "    first = (1 if winner%2 == 0 else 0)\n",
        "    # create a list for each turn in the game\n",
        "    turn_label = []\n",
        "    cutoff_turns = label[0] - prev\n",
        "    if game_num in indices:\n",
        "      train = True\n",
        "      max_turns = label[0]\n",
        "    else:\n",
        "      train = False\n",
        "      max_turns = cutoff_turns+1\n",
        "    for turn in range(label[0]):\n",
        "      if max_turns >= turn >= cutoff_turns:\n",
        "        turn_label.append(first if turn%2==0 else 1-first)\n",
        "    if train:\n",
        "      train_labels.append(turn_label)\n",
        "    else:\n",
        "      test_labels.append(turn_label)\n",
        "    game_num += 1\n",
        "      \n",
        "\n",
        "\n",
        "\n",
        "  \n",
        "  return train_labels, test_labels\n",
        "  \n",
        "# labels = []\n",
        "# labels_2 = assign_labels(2)\n",
        "# labels_2 = np.array(labels_2)\n",
        "# # print(labels_2[0])\n",
        "# for i in labels_2:\n",
        "#   for j in i:\n",
        "#     # print(j)\n",
        "#     labels.append(j)\n",
        "\n",
        "\n",
        "# print(labels[60])\n",
        "# print(games.iloc[60][['turns', 'winner', 'victory_status']])"
      ],
      "execution_count": null,
      "outputs": []
    },
    {
      "cell_type": "markdown",
      "metadata": {
        "id": "wZWIJTU24Ibb",
        "colab_type": "text"
      },
      "source": [
        "### Evaluation and Visualizing Results"
      ]
    },
    {
      "cell_type": "code",
      "metadata": {
        "id": "wXaNo3ppXKy6",
        "colab_type": "code",
        "colab": {
          "base_uri": "https://localhost:8080/",
          "height": 85
        },
        "outputId": "276b730f-8d86-4f3a-e19a-a7e13412fb01"
      },
      "source": [
        "import random\n",
        "cutoffs = np.arange(30, 2, -2)\n",
        "accs = []\n",
        "length = len(moves_list)\n",
        "\n",
        "train_ind = random.sample(range(length), int(length*0.8))\n",
        "before = 10\n",
        "y_train = []\n",
        "y_test = []\n",
        "labels = []\n",
        "labels_2, labels_2_test = assign_labels(before, train_ind)\n",
        "labels_2 = np.array(labels_2)\n",
        "# print(labels_2[0])\n",
        "for i in labels_2:\n",
        "  for j in i:\n",
        "    # print(j )\n",
        "    y_train.append(j)\n",
        "for i in labels_2_test:\n",
        "  for j in i:\n",
        "    # print(j)\n",
        "    y_test.append(j)\n",
        "\n",
        "feature_list = []\n",
        "feature_list_test = []\n",
        "game_num = 0\n",
        "for game in moves_list:\n",
        "  # print(game_num)\n",
        "  piece_matrix, color_matrix = create_matrices()\n",
        "  turn = 0\n",
        "  game_features = []\n",
        "  cutoff_turns = len(game) - before\n",
        "  if game_num%1000 == 0:\n",
        "    print(game_num)\n",
        "  if game_num in train_ind:\n",
        "    max_turns = len(game)\n",
        "    train = True\n",
        "  else:\n",
        "    train = False\n",
        "    max_turns = cutoff_turns + 1\n",
        "  for move in game:\n",
        "    update_board(move[0], turn%2 == 0)\n",
        "    if max_turns >= turn >= cutoff_turns:\n",
        "    # print(move[0])\n",
        "      check = check_feature(move[0]) # made the move\n",
        "      white_vun, black_vun = value_vulnerable_pieces() # both players\n",
        "      white_left, black_left = value_left() # person who didnt make the move\n",
        "      white_acc, black_acc = accessible_squares_count() # both\n",
        "      turn_piece = \"white\" if turn%2==0 else \"black\"\n",
        "      opp_turn_piece = \"black\" if turn%2==0 else \"white\"\n",
        "      if turn%2 == 0:\n",
        "        if train:\n",
        "          feature_list.append([check, white_vun, black_vun, black_left, white_acc, black_acc])\n",
        "        else:\n",
        "          feature_list_test.append([check, white_vun, black_vun, black_left, white_acc, black_acc]) \n",
        "      else:\n",
        "        if train:\n",
        "          feature_list.append([check, white_vun, black_vun, white_left, white_acc, black_acc])\n",
        "        else:\n",
        "          feature_list_test.append([check, white_vun, black_vun, white_left, white_acc, black_acc])\n",
        "\n",
        "    turn += 1\n",
        "  game_num += 1\n",
        "\n",
        "# X_train, X_test, y_train, y_test = ms.train_test_split(feature_list, labels, test_size = 0.2)\n",
        "\n",
        "rf = RandomForestClassifier(n_estimators=100, max_depth = 15).fit(feature_list, y_train)\n",
        "nb = naive_bayes.GaussianNB().fit(feature_list, y_train)\n",
        "print(f\"RF Train: {rf.score(feature_list, y_train)}\")\n",
        "print(f\"RF Test: {rf.score(feature_list_test, y_test)}\")\n",
        "print(f\"NB Train: {nb.score(feature_list, y_train)}\")\n",
        "print(f\"NB Test: {nb.score(feature_list_test, y_test)}\")"
      ],
      "execution_count": null,
      "outputs": [
        {
          "output_type": "stream",
          "text": [
            "RF Train: 0.7857687178510192\n",
            "RF Test: 0.6835491241431836\n",
            "NB Train: 0.6771575538197752\n",
            "NB Test: 0.6329017517136329\n"
          ],
          "name": "stdout"
        }
      ]
    },
    {
      "cell_type": "code",
      "metadata": {
        "id": "gf7jAXTHTbmr",
        "colab_type": "code",
        "colab": {}
      },
      "source": [
        "import random\n",
        "cutoffs = np.arange(30, 2, -2)\n",
        "accs = []\n",
        "length = len(moves_list)\n",
        "\n",
        "train_ind = random.sample(range(length), int(length*0.8))\n",
        "for before in cutoffs:\n",
        "  y_train = []\n",
        "  y_test = []\n",
        "  labels = []\n",
        "  labels_2, labels_2_test = assign_labels(before, train_ind)\n",
        "  labels_2 = np.array(labels_2)\n",
        "  # print(labels_2[0])\n",
        "  for i in labels_2:\n",
        "    for j in i:\n",
        "      # print(j )\n",
        "      y_train.append(j)\n",
        "  for i in labels_2_test:\n",
        "    for j in i:\n",
        "      # print(j)\n",
        "      y_test.append(j)\n",
        "\n",
        "  feature_list = []\n",
        "  feature_list_test = []\n",
        "  game_num = 0\n",
        "  for game in moves_list:\n",
        "    # print(game_num)\n",
        "    piece_matrix, color_matrix = create_matrices()\n",
        "    turn = 0\n",
        "    game_features = []\n",
        "    cutoff_turns = len(game) - before\n",
        "    if game_num%1000 == 0:\n",
        "      print(game_num)\n",
        "    if game_num in train_ind:\n",
        "      max_turns = len(game)\n",
        "      train = True\n",
        "    else:\n",
        "      train = False\n",
        "      max_turns = cutoff_turns + 1\n",
        "    for move in game:\n",
        "      update_board(move[0], turn%2 == 0)\n",
        "      if max_turns >= turn >= cutoff_turns:\n",
        "      # print(move[0])\n",
        "        check = check_feature(move[0]) # made the move\n",
        "        white_vun, black_vun = value_vulnerable_pieces() # both players\n",
        "        white_left, black_left = value_left() # person who didnt make the move\n",
        "        white_acc, black_acc = accessible_squares_count() # both\n",
        "        turn_piece = \"white\" if turn%2==0 else \"black\"\n",
        "        opp_turn_piece = \"black\" if turn%2==0 else \"white\"\n",
        "        if turn%2 == 0:\n",
        "          if train:\n",
        "            feature_list.append([check, white_vun, black_vun, black_left, white_acc, black_acc])\n",
        "          else:\n",
        "            feature_list_test.append([check, white_vun, black_vun, black_left, white_acc, black_acc]) \n",
        "        else:\n",
        "          if train:\n",
        "            feature_list.append([check, white_vun, black_vun, white_left, white_acc, black_acc])\n",
        "          else:\n",
        "            feature_list_test.append([check, white_vun, black_vun, white_left, white_acc, black_acc])\n",
        "\n",
        "      turn += 1\n",
        "    game_num += 1\n",
        "\n",
        "  # X_train, X_test, y_train, y_test = ms.train_test_split(feature_list, labels, test_size = 0.2)\n",
        "\n",
        "  rf = RandomForestClassifier(n_estimators=100, max_depth = 15).fit(feature_list, y_train)\n",
        "  y_pred = rf.predict(feature_list_test)\n",
        "  if before == 10:\n",
        "    importances = rf.feature_importances_\n",
        "  acc = metrics.accuracy_score(y_pred, y_test)\n",
        "  print(f\"Cutoff: {before}, Accuracy: {acc}\")\n",
        "  accs.append(acc)"
      ],
      "execution_count": null,
      "outputs": []
    },
    {
      "cell_type": "code",
      "metadata": {
        "id": "z20eBaE0zeK-",
        "colab_type": "code",
        "colab": {
          "base_uri": "https://localhost:8080/"
        },
        "outputId": "97eb9d77-9b4a-4eec-f3b4-d9d25e1a931c"
      },
      "source": [
        "plt.plot(cutoffs, accs)\n",
        "plt.xlabel(\"Moves Before End\")\n",
        "plt.ylabel(\"Prediction Accuracy\")\n",
        "ax = plt.gca()\n",
        "ax.set_xlim(30,4)\n",
        "plt.show()"
      ],
      "execution_count": null,
      "outputs": [
        {
          "output_type": "display_data",
          "data": {
            "image/png": "[encoded data removed]",
            "text/plain": [
              "<Figure size 432x288 with 1 Axes>"
            ]
          },
          "metadata": {
            "tags": []
          }
        }
      ]
    },
    {
      "cell_type": "code",
      "metadata": {
        "id": "TLglvtHpTRWv",
        "colab_type": "code",
        "colab": {
          "base_uri": "https://localhost:8080/",
          "height": 606
        },
        "outputId": "6b3c03c6-e93a-4612-afac-9097b58bd5e9"
      },
      "source": [
        "plt.figure(figsize = (20, 10))\n",
        "plt.bar(['Check','White Vun','Black Vun','Value of Pieces Left','White Acc','Black Acc'], importances)\n",
        "plt.xlabel(\"Feature\")\n",
        "plt.ylabel(\"Percentage Importance\")\n",
        "plt.show()"
      ],
      "execution_count": null,
      "outputs": [
        {
          "output_type": "display_data",
          "data": {
            "image/png": "[encoded data removed]",
            "text/plain": [
              "<Figure size 1440x720 with 1 Axes>"
            ]
          },
          "metadata": {
            "tags": []
          }
        }
      ]
    },
    {
      "cell_type": "code",
      "metadata": {
        "id": "op1ei8Dwr6sr",
        "colab_type": "code",
        "colab": {}
      },
      "source": [
        "# check plot\n",
        "\n",
        "checks = []\n",
        "for feat in feature_list:\n",
        "  checks.append(feat[0])\n",
        "\n",
        "print(checks)\n",
        "check_df = pd.DataFrame(checks)\n",
        "check_df = check_df.rename(columns = {0:\"check\"})\n",
        "check_df = check_df[\"check\"].value_counts().reset_index().rename(columns = {\"index\": \"check\", \"check\": \"number of times\"})\n",
        "print(check_df)\n",
        "\n",
        "x = check_df[\"check\"]\n",
        "y = check_df[\"number of times\"]\n",
        "\n",
        "plt.figure(figsize = (5,10))\n",
        "plt.gca()\n",
        "plt.xlim([-1, 2])\n",
        "plt.ylim([0, 120000])\n",
        "plt.xticks(np.arange(0, 2, 1))\n",
        "plt.yticks(np.arange(0, 120000, 20000))\n",
        "plt.bar(x,y)\n",
        "plt.ylabel('number of times check value appears')\n",
        "plt.xlabel(\"check (0: no, 1: yes)\")\n",
        "plt.title(\"Check Feature Distribution\")\n",
        "\n",
        "plt.show()\n"
      ],
      "execution_count": null,
      "outputs": []
    },
    {
      "cell_type": "code",
      "metadata": {
        "id": "p_0utAGRr_X5",
        "colab_type": "code",
        "colab": {}
      },
      "source": [
        "# white vun plot\n",
        "\n",
        "white_vun_plot = []\n",
        "for feat in feature_list:\n",
        "  white_vun_plot.append(feat[1])\n",
        "\n",
        "print(white_vun_plot)\n",
        "white_vun_df = pd.DataFrame(white_vun_plot)\n",
        "white_vun_df = white_vun_df.rename(columns = {0:\"value count\"})\n",
        "white_vun_df = white_vun_df[\"value count\"].value_counts().reset_index().rename(columns = {\"index\": \"sum of vulnerable pieces\", \"value count\": \"number of times\"})\n",
        "print(white_vun_df)\n",
        "\n",
        "x = white_vun_df[\"sum of vulnerable pieces\"]\n",
        "y = white_vun_df[\"number of times\"]\n",
        "\n",
        "plt.figure(figsize = (5,10))\n",
        "plt.gca()\n",
        "plt.xlim([-1, 29])\n",
        "plt.ylim([0, 25000])\n",
        "plt.xticks(np.arange(0, 25, 5))\n",
        "plt.yticks(np.arange(0, 25000, 5000))\n",
        "plt.bar(x,y)\n",
        "plt.ylabel('number of times each vulnerable piece value appears')\n",
        "plt.xlabel(\"sum of vulnerable pieces\")\n",
        "plt.title(\"White Vulnerable Pieces Feature Distribution\")\n",
        "\n",
        "plt.show()\n"
      ],
      "execution_count": null,
      "outputs": []
    },
    {
      "cell_type": "code",
      "metadata": {
        "id": "WKFewN4_sCtU",
        "colab_type": "code",
        "colab": {}
      },
      "source": [
        "# black vun plot\n",
        "\n",
        "black_vun_plot = []\n",
        "for feat in feature_list:\n",
        "  black_vun_plot.append(feat[2])\n",
        "\n",
        "print(black_vun_plot)\n",
        "black_vun_df = pd.DataFrame(black_vun_plot)\n",
        "black_vun_df = black_vun_df.rename(columns = {0:\"value count\"})\n",
        "black_vun_df = black_vun_df[\"value count\"].value_counts().reset_index().rename(columns = {\"index\": \"sum of vulnerable pieces\", \"value count\": \"number of times\"})\n",
        "print(black_vun_df)\n",
        "\n",
        "x = black_vun_df[\"sum of vulnerable pieces\"]\n",
        "y = black_vun_df[\"number of times\"]\n",
        "\n",
        "plt.figure(figsize = (5,10))\n",
        "plt.gca()\n",
        "plt.xlim([-1, 29])\n",
        "plt.ylim([0, 25000])\n",
        "plt.xticks(np.arange(0, 25, 5))\n",
        "plt.yticks(np.arange(0, 25000, 5000))\n",
        "plt.bar(x,y)\n",
        "plt.ylabel('number of times each vulnerable piece value appears')\n",
        "plt.xlabel(\"sum of vulnerable pieces\")\n",
        "plt.title(\"Black Vulnerable Pieces Feature Distribution\")\n",
        "\n",
        "plt.show()"
      ],
      "execution_count": null,
      "outputs": []
    },
    {
      "cell_type": "code",
      "metadata": {
        "id": "-9cgpDApsHfY",
        "colab_type": "code",
        "colab": {}
      },
      "source": [
        "# white acc plot\n",
        "\n",
        "white_acc_plot = []\n",
        "for feat in feature_list:\n",
        "  white_acc_plot.append(feat[4])\n",
        "\n",
        "print(white_acc_plot)\n",
        "white_acc_df = pd.DataFrame(white_acc_plot)\n",
        "white_acc_df = white_acc_df.rename(columns = {0:\"value count\"})\n",
        "white_acc_df = white_acc_df[\"value count\"].value_counts().reset_index().rename(columns = {\"index\": \"sum of accessible squares\", \"value count\": \"number of times\"})\n",
        "print(white_acc_df)\n",
        "\n",
        "x = white_acc_df[\"sum of accessible squares\"]\n",
        "y = white_acc_df[\"number of times\"]\n",
        "\n",
        "plt.figure(figsize = (5,10))\n",
        "plt.gca()\n",
        "plt.xlim([-1, 51])\n",
        "plt.ylim([0, 8000])\n",
        "plt.xticks(np.arange(0, 50, 5))\n",
        "plt.yticks(np.arange(0, 8000, 2000))\n",
        "plt.bar(x,y)\n",
        "plt.ylabel('number of times each vulnerable piece value appears')\n",
        "plt.xlabel(\"sum of accessible squares\")\n",
        "plt.title(\"White Accessible Squares Feature Distribution\")\n",
        "\n",
        "plt.show()"
      ],
      "execution_count": null,
      "outputs": []
    },
    {
      "cell_type": "code",
      "metadata": {
        "id": "Q7fz8kGesLbK",
        "colab_type": "code",
        "colab": {}
      },
      "source": [
        "# black acc plot\n",
        "\n",
        "black_acc_plot = []\n",
        "for feat in feature_list:\n",
        "  black_acc_plot.append(feat[5])\n",
        "\n",
        "print(black_acc_plot)\n",
        "black_acc_df = pd.DataFrame(black_acc_plot)\n",
        "black_acc_df = black_acc_df.rename(columns = {0:\"value count\"})\n",
        "black_acc_df = black_acc_df[\"value count\"].value_counts().reset_index().rename(columns = {\"index\": \"sum of accessible squares\", \"value count\": \"number of times\"})\n",
        "print(black_acc_df)\n",
        "\n",
        "x = black_acc_df[\"sum of accessible squares\"]\n",
        "y = black_acc_df[\"number of times\"]\n",
        "\n",
        "plt.figure(figsize = (5,10))\n",
        "plt.gca()\n",
        "plt.xlim([-1, 51])\n",
        "plt.ylim([0, 8000])\n",
        "plt.xticks(np.arange(0, 50, 5))\n",
        "plt.yticks(np.arange(0, 8000, 2000))\n",
        "plt.bar(x,y)\n",
        "plt.ylabel('number of times each vulnerable piece value appears')\n",
        "plt.xlabel(\"sum of accessible squares\")\n",
        "plt.title(\"Black Accessible Squares Feature Distribution\")\n",
        "\n",
        "plt.show()"
      ],
      "execution_count": null,
      "outputs": []
    }
  ]
}